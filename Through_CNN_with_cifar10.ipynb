{
  "nbformat": 4,
  "nbformat_minor": 0,
  "metadata": {
    "colab": {
      "name": "image classification through CNN.ipynb",
      "provenance": []
    },
    "kernelspec": {
      "name": "python3",
      "display_name": "Python 3"
    },
    "language_info": {
      "name": "python"
    },
    "accelerator": "GPU",
    "gpuClass": "standard"
  },
  "cells": [
    {
      "cell_type": "code",
      "execution_count": null,
      "metadata": {
        "id": "qnNap85mAzXV"
      },
      "outputs": [],
      "source": [
        "import tensorflow as tf"
      ]
    },
    {
      "cell_type": "code",
      "source": [
        "from tensorflow.keras import datasets, models, layers\n",
        "import matplotlib.pyplot as plt\n",
        "import numpy as np"
      ],
      "metadata": {
        "id": "-_I-sfoQA9M_"
      },
      "execution_count": null,
      "outputs": []
    },
    {
      "cell_type": "code",
      "source": [
        "(x_train,y_train),(x_test,y_test)=datasets.cifar10.load_data()\n",
        "x_train.shape"
      ],
      "metadata": {
        "colab": {
          "base_uri": "https://localhost:8080/"
        },
        "id": "g49Iva_UBnKZ",
        "outputId": "78e3ddd3-444d-49cf-88f9-ba67eebb40c7"
      },
      "execution_count": null,
      "outputs": [
        {
          "output_type": "stream",
          "name": "stdout",
          "text": [
            "Downloading data from https://www.cs.toronto.edu/~kriz/cifar-10-python.tar.gz\n",
            "170500096/170498071 [==============================] - 13s 0us/step\n",
            "170508288/170498071 [==============================] - 13s 0us/step\n"
          ]
        },
        {
          "output_type": "execute_result",
          "data": {
            "text/plain": [
              "(50000, 32, 32, 3)"
            ]
          },
          "metadata": {},
          "execution_count": 3
        }
      ]
    },
    {
      "cell_type": "code",
      "source": [
        "x_test.shape"
      ],
      "metadata": {
        "colab": {
          "base_uri": "https://localhost:8080/"
        },
        "id": "U_vIuRXECcLE",
        "outputId": "c190bed4-d0cf-45fb-86e5-8d4823e0c3e8"
      },
      "execution_count": null,
      "outputs": [
        {
          "output_type": "execute_result",
          "data": {
            "text/plain": [
              "(10000, 32, 32, 3)"
            ]
          },
          "metadata": {},
          "execution_count": 4
        }
      ]
    },
    {
      "cell_type": "code",
      "source": [
        "y_train[:5]"
      ],
      "metadata": {
        "colab": {
          "base_uri": "https://localhost:8080/"
        },
        "id": "mlOqLaBjE5Xu",
        "outputId": "aa80510b-1ea0-4803-f24f-715db82a0878"
      },
      "execution_count": null,
      "outputs": [
        {
          "output_type": "execute_result",
          "data": {
            "text/plain": [
              "array([[6],\n",
              "       [9],\n",
              "       [9],\n",
              "       [4],\n",
              "       [1]], dtype=uint8)"
            ]
          },
          "metadata": {},
          "execution_count": 5
        }
      ]
    },
    {
      "cell_type": "code",
      "source": [
        "classes=['airplane','automobile','bird','cat','deer','dog','frog','hourse','ship','truck']"
      ],
      "metadata": {
        "id": "KKhQVqZ6FNY6"
      },
      "execution_count": null,
      "outputs": []
    },
    {
      "cell_type": "code",
      "source": [
        "classes[1]"
      ],
      "metadata": {
        "colab": {
          "base_uri": "https://localhost:8080/",
          "height": 36
        },
        "id": "ePpM-8oVFjv6",
        "outputId": "35c9e218-685d-409d-a5f7-aefff35d5a3d"
      },
      "execution_count": null,
      "outputs": [
        {
          "output_type": "execute_result",
          "data": {
            "text/plain": [
              "'automobile'"
            ],
            "application/vnd.google.colaboratory.intrinsic+json": {
              "type": "string"
            }
          },
          "metadata": {},
          "execution_count": 7
        }
      ]
    },
    {
      "cell_type": "code",
      "source": [
        "y_train[0]"
      ],
      "metadata": {
        "colab": {
          "base_uri": "https://localhost:8080/"
        },
        "id": "1ozJYsK6Izxl",
        "outputId": "4d6919f6-aa93-4753-f7bf-1de8a871d66b"
      },
      "execution_count": null,
      "outputs": [
        {
          "output_type": "execute_result",
          "data": {
            "text/plain": [
              "array([6], dtype=uint8)"
            ]
          },
          "metadata": {},
          "execution_count": 8
        }
      ]
    },
    {
      "cell_type": "code",
      "source": [
        "y_train[0,0]"
      ],
      "metadata": {
        "colab": {
          "base_uri": "https://localhost:8080/"
        },
        "id": "WJ6xmmjTG8UW",
        "outputId": "08430f19-1d89-493a-9328-4d90df7cd1c9"
      },
      "execution_count": null,
      "outputs": [
        {
          "output_type": "execute_result",
          "data": {
            "text/plain": [
              "6"
            ]
          },
          "metadata": {},
          "execution_count": 9
        }
      ]
    },
    {
      "cell_type": "code",
      "source": [
        "y_train[1]"
      ],
      "metadata": {
        "colab": {
          "base_uri": "https://localhost:8080/"
        },
        "id": "CM_6KlVzI418",
        "outputId": "7d6be2e6-d670-411d-e09f-65b4cec20335"
      },
      "execution_count": null,
      "outputs": [
        {
          "output_type": "execute_result",
          "data": {
            "text/plain": [
              "array([9], dtype=uint8)"
            ]
          },
          "metadata": {},
          "execution_count": 10
        }
      ]
    },
    {
      "cell_type": "code",
      "source": [
        "y_train[1,0]"
      ],
      "metadata": {
        "colab": {
          "base_uri": "https://localhost:8080/"
        },
        "id": "dNVGR1ZlI851",
        "outputId": "adbb5bd2-d958-499e-f94b-0c8dc76eea33"
      },
      "execution_count": null,
      "outputs": [
        {
          "output_type": "execute_result",
          "data": {
            "text/plain": [
              "9"
            ]
          },
          "metadata": {},
          "execution_count": 11
        }
      ]
    },
    {
      "cell_type": "code",
      "source": [
        "classes[y_train[0,0]]"
      ],
      "metadata": {
        "colab": {
          "base_uri": "https://localhost:8080/",
          "height": 36
        },
        "id": "YaVUOsxcGtu3",
        "outputId": "a09c8c8e-dae4-4dbd-8cae-cf12a17d4bde"
      },
      "execution_count": null,
      "outputs": [
        {
          "output_type": "execute_result",
          "data": {
            "text/plain": [
              "'frog'"
            ],
            "application/vnd.google.colaboratory.intrinsic+json": {
              "type": "string"
            }
          },
          "metadata": {},
          "execution_count": 12
        }
      ]
    },
    {
      "cell_type": "code",
      "source": [
        "y_train[1,0]"
      ],
      "metadata": {
        "colab": {
          "base_uri": "https://localhost:8080/"
        },
        "id": "TBB_aIBeIh5q",
        "outputId": "212ab8bb-22b7-47a3-cfd3-00eb41225d55"
      },
      "execution_count": null,
      "outputs": [
        {
          "output_type": "execute_result",
          "data": {
            "text/plain": [
              "9"
            ]
          },
          "metadata": {},
          "execution_count": 13
        }
      ]
    },
    {
      "cell_type": "code",
      "source": [
        "def plot_sample(x,y,index):\n",
        "  plt.imshow(x[index])\n",
        "  plt.xlabel(classes[y[index,0]])"
      ],
      "metadata": {
        "id": "LXkjEAHQDGbP"
      },
      "execution_count": null,
      "outputs": []
    },
    {
      "cell_type": "code",
      "source": [
        "plot_sample(x_train,y_train,1)"
      ],
      "metadata": {
        "colab": {
          "base_uri": "https://localhost:8080/",
          "height": 280
        },
        "id": "hBYi1Bz6DM6X",
        "outputId": "ea8f9098-3e00-4a91-fd03-56781627e05e"
      },
      "execution_count": null,
      "outputs": [
        {
          "output_type": "display_data",
          "data": {
            "text/plain": [
              "<Figure size 432x288 with 1 Axes>"
            ],
            "image/png": "[encoded data removed]"
          },
          "metadata": {
            "needs_background": "light"
          }
        }
      ]
    },
    {
      "cell_type": "code",
      "source": [
        "plot_sample(x_train,y_train,100)"
      ],
      "metadata": {
        "colab": {
          "base_uri": "https://localhost:8080/",
          "height": 280
        },
        "id": "mSM5h5QgId8g",
        "outputId": "63521293-f2e1-4e68-e90c-c6f22c99cb8e"
      },
      "execution_count": null,
      "outputs": [
        {
          "output_type": "display_data",
          "data": {
            "text/plain": [
              "<Figure size 432x288 with 1 Axes>"
            ],
            "image/png": "[encoded data removed]"
          },
          "metadata": {
            "needs_background": "light"
          }
        }
      ]
    },
    {
      "cell_type": "code",
      "source": [
        "#converting pixels into 0-1\n",
        "x_train,x_test=x_train/255,x_test/255"
      ],
      "metadata": {
        "id": "NSo1BNj6JI-Q"
      },
      "execution_count": null,
      "outputs": []
    },
    {
      "cell_type": "code",
      "source": [
        "model=models.Sequential()\n",
        "model.add(layers.Conv2D(32,(3,3), activation='relu',input_shape=(32,32,3)))\n",
        "model.add(layers.MaxPooling2D((2,2)))\n",
        "model.add(layers.Conv2D(64,(3,3), activation='relu'))\n",
        "model.add(layers.MaxPooling2D((2,2)))\n",
        "model.add(layers.Conv2D(64,(3,3), activation='relu',))\n",
        "model.add(layers.MaxPooling2D((2,2)))\n",
        "\n"
      ],
      "metadata": {
        "id": "Wuv-v7nCMGlQ"
      },
      "execution_count": null,
      "outputs": []
    },
    {
      "cell_type": "code",
      "source": [
        "model.summary()"
      ],
      "metadata": {
        "colab": {
          "base_uri": "https://localhost:8080/"
        },
        "id": "bLMmShSoR89Y",
        "outputId": "550adfb1-5a99-445f-f3b5-28c6f283e254"
      },
      "execution_count": null,
      "outputs": [
        {
          "output_type": "stream",
          "name": "stdout",
          "text": [
            "Model: \"sequential\"\n",
            "_________________________________________________________________\n",
            " Layer (type)                Output Shape              Param #   \n",
            "=================================================================\n",
            " conv2d (Conv2D)             (None, 30, 30, 32)        896       \n",
            "                                                                 \n",
            " max_pooling2d (MaxPooling2D  (None, 15, 15, 32)       0         \n",
            " )                                                               \n",
            "                                                                 \n",
            " conv2d_1 (Conv2D)           (None, 13, 13, 64)        18496     \n",
            "                                                                 \n",
            " max_pooling2d_1 (MaxPooling  (None, 6, 6, 64)         0         \n",
            " 2D)                                                             \n",
            "                                                                 \n",
            " conv2d_2 (Conv2D)           (None, 4, 4, 64)          36928     \n",
            "                                                                 \n",
            " max_pooling2d_2 (MaxPooling  (None, 2, 2, 64)         0         \n",
            " 2D)                                                             \n",
            "                                                                 \n",
            "=================================================================\n",
            "Total params: 56,320\n",
            "Trainable params: 56,320\n",
            "Non-trainable params: 0\n",
            "_________________________________________________________________\n"
          ]
        }
      ]
    },
    {
      "cell_type": "code",
      "source": [
        "model.add(layers.Flatten())\n",
        "model.add(layers.Dense(64,activation='relu'))\n",
        "model.add(layers.Dense(10, activation='softmax'))"
      ],
      "metadata": {
        "id": "Av5Fz7ZmSU2U"
      },
      "execution_count": null,
      "outputs": []
    },
    {
      "cell_type": "code",
      "source": [
        "model.summary()"
      ],
      "metadata": {
        "colab": {
          "base_uri": "https://localhost:8080/"
        },
        "id": "sVL6HtHuUNFQ",
        "outputId": "6172c0c9-ac07-47c4-f14a-9c6da70ca8b2"
      },
      "execution_count": null,
      "outputs": [
        {
          "output_type": "stream",
          "name": "stdout",
          "text": [
            "Model: \"sequential\"\n",
            "_________________________________________________________________\n",
            " Layer (type)                Output Shape              Param #   \n",
            "=================================================================\n",
            " conv2d (Conv2D)             (None, 30, 30, 32)        896       \n",
            "                                                                 \n",
            " max_pooling2d (MaxPooling2D  (None, 15, 15, 32)       0         \n",
            " )                                                               \n",
            "                                                                 \n",
            " conv2d_1 (Conv2D)           (None, 13, 13, 64)        18496     \n",
            "                                                                 \n",
            " max_pooling2d_1 (MaxPooling  (None, 6, 6, 64)         0         \n",
            " 2D)                                                             \n",
            "                                                                 \n",
            " conv2d_2 (Conv2D)           (None, 4, 4, 64)          36928     \n",
            "                                                                 \n",
            " max_pooling2d_2 (MaxPooling  (None, 2, 2, 64)         0         \n",
            " 2D)                                                             \n",
            "                                                                 \n",
            " flatten (Flatten)           (None, 256)               0         \n",
            "                                                                 \n",
            " dense (Dense)               (None, 64)                16448     \n",
            "                                                                 \n",
            " dense_1 (Dense)             (None, 10)                650       \n",
            "                                                                 \n",
            "=================================================================\n",
            "Total params: 73,418\n",
            "Trainable params: 73,418\n",
            "Non-trainable params: 0\n",
            "_________________________________________________________________\n"
          ]
        }
      ]
    },
    {
      "cell_type": "code",
      "source": [
        "model.compile(optimizer='adam',\n",
        "              loss=['sparse_categorical_crossentropy'],\n",
        "              metrics=['accuracy'])\n",
        "history=model.fit(x_train,y_train, epochs=25, validation_data=(x_test,y_test))"
      ],
      "metadata": {
        "colab": {
          "base_uri": "https://localhost:8080/"
        },
        "id": "HEPt-yMMUSe2",
        "outputId": "56afb628-19d9-490a-d8e7-6d42399f40fa"
      },
      "execution_count": null,
      "outputs": [
        {
          "output_type": "stream",
          "name": "stdout",
          "text": [
            "Epoch 1/25\n",
            "1563/1563 [==============================] - 19s 4ms/step - loss: 1.5865 - accuracy: 0.4195 - val_loss: 1.3136 - val_accuracy: 0.5293\n",
            "Epoch 2/25\n",
            "1563/1563 [==============================] - 6s 4ms/step - loss: 1.2088 - accuracy: 0.5664 - val_loss: 1.1558 - val_accuracy: 0.5853\n",
            "Epoch 3/25\n",
            "1563/1563 [==============================] - 6s 4ms/step - loss: 1.0619 - accuracy: 0.6259 - val_loss: 1.0490 - val_accuracy: 0.6273\n",
            "Epoch 4/25\n",
            "1563/1563 [==============================] - 6s 4ms/step - loss: 0.9617 - accuracy: 0.6632 - val_loss: 1.0004 - val_accuracy: 0.6520\n",
            "Epoch 5/25\n",
            "1563/1563 [==============================] - 7s 4ms/step - loss: 0.8925 - accuracy: 0.6859 - val_loss: 0.9491 - val_accuracy: 0.6685\n",
            "Epoch 6/25\n",
            "1563/1563 [==============================] - 7s 4ms/step - loss: 0.8297 - accuracy: 0.7098 - val_loss: 0.9198 - val_accuracy: 0.6845\n",
            "Epoch 7/25\n",
            "1563/1563 [==============================] - 6s 4ms/step - loss: 0.7847 - accuracy: 0.7279 - val_loss: 0.9276 - val_accuracy: 0.6841\n",
            "Epoch 8/25\n",
            "1563/1563 [==============================] - 6s 4ms/step - loss: 0.7431 - accuracy: 0.7418 - val_loss: 0.8974 - val_accuracy: 0.6935\n",
            "Epoch 9/25\n",
            "1563/1563 [==============================] - 7s 4ms/step - loss: 0.7041 - accuracy: 0.7541 - val_loss: 0.8915 - val_accuracy: 0.6998\n",
            "Epoch 10/25\n",
            "1563/1563 [==============================] - 8s 5ms/step - loss: 0.6664 - accuracy: 0.7674 - val_loss: 0.8757 - val_accuracy: 0.7063\n",
            "Epoch 11/25\n",
            "1563/1563 [==============================] - 6s 4ms/step - loss: 0.6415 - accuracy: 0.7762 - val_loss: 0.9285 - val_accuracy: 0.6878\n",
            "Epoch 12/25\n",
            "1563/1563 [==============================] - 6s 4ms/step - loss: 0.6096 - accuracy: 0.7867 - val_loss: 0.8687 - val_accuracy: 0.7113\n",
            "Epoch 13/25\n",
            "1563/1563 [==============================] - 7s 5ms/step - loss: 0.5873 - accuracy: 0.7941 - val_loss: 0.8848 - val_accuracy: 0.7126\n",
            "Epoch 14/25\n",
            "1563/1563 [==============================] - 6s 4ms/step - loss: 0.5623 - accuracy: 0.8033 - val_loss: 0.9533 - val_accuracy: 0.7001\n",
            "Epoch 15/25\n",
            "1563/1563 [==============================] - 6s 4ms/step - loss: 0.5395 - accuracy: 0.8099 - val_loss: 0.9225 - val_accuracy: 0.6988\n",
            "Epoch 16/25\n",
            "1563/1563 [==============================] - 7s 4ms/step - loss: 0.5188 - accuracy: 0.8188 - val_loss: 0.8989 - val_accuracy: 0.7127\n",
            "Epoch 17/25\n",
            "1563/1563 [==============================] - 7s 4ms/step - loss: 0.5017 - accuracy: 0.8247 - val_loss: 0.9546 - val_accuracy: 0.7080\n",
            "Epoch 18/25\n",
            "1563/1563 [==============================] - 6s 4ms/step - loss: 0.4844 - accuracy: 0.8283 - val_loss: 0.9579 - val_accuracy: 0.7134\n",
            "Epoch 19/25\n",
            "1563/1563 [==============================] - 6s 4ms/step - loss: 0.4665 - accuracy: 0.8356 - val_loss: 0.9548 - val_accuracy: 0.7096\n",
            "Epoch 20/25\n",
            "1563/1563 [==============================] - 6s 4ms/step - loss: 0.4449 - accuracy: 0.8400 - val_loss: 0.9883 - val_accuracy: 0.7068\n",
            "Epoch 21/25\n",
            "1563/1563 [==============================] - 6s 4ms/step - loss: 0.4357 - accuracy: 0.8454 - val_loss: 1.0255 - val_accuracy: 0.7085\n",
            "Epoch 22/25\n",
            "1563/1563 [==============================] - 7s 5ms/step - loss: 0.4189 - accuracy: 0.8514 - val_loss: 1.0443 - val_accuracy: 0.7059\n",
            "Epoch 23/25\n",
            "1563/1563 [==============================] - 7s 5ms/step - loss: 0.4011 - accuracy: 0.8569 - val_loss: 1.0970 - val_accuracy: 0.7040\n",
            "Epoch 24/25\n",
            "1563/1563 [==============================] - 6s 4ms/step - loss: 0.3899 - accuracy: 0.8624 - val_loss: 1.1292 - val_accuracy: 0.6933\n",
            "Epoch 25/25\n",
            "1563/1563 [==============================] - 6s 4ms/step - loss: 0.3799 - accuracy: 0.8643 - val_loss: 1.0952 - val_accuracy: 0.7102\n"
          ]
        }
      ]
    },
    {
      "cell_type": "code",
      "source": [
        "model.evaluate(x_test,y_test)"
      ],
      "metadata": {
        "colab": {
          "base_uri": "https://localhost:8080/"
        },
        "id": "R_QlR6-CWwVa",
        "outputId": "d45e75ec-3399-434b-b799-5768d6594a02"
      },
      "execution_count": null,
      "outputs": [
        {
          "output_type": "stream",
          "name": "stdout",
          "text": [
            "313/313 [==============================] - 1s 3ms/step - loss: 1.0952 - accuracy: 0.7102\n"
          ]
        },
        {
          "output_type": "execute_result",
          "data": {
            "text/plain": [
              "[1.0951634645462036, 0.7102000117301941]"
            ]
          },
          "metadata": {},
          "execution_count": 23
        }
      ]
    },
    {
      "cell_type": "code",
      "source": [
        "from sklearn.metrics import confusion_matrix, classification_report\n",
        "import numpy as np\n",
        "y_pred=model.predict(x_test)\n",
        "y_pred_classes=[np.argmax(element) for element in y_pred]\n",
        "\n",
        "print('Classification Report:\\n', classification_report(y_test,y_pred_classes))"
      ],
      "metadata": {
        "colab": {
          "base_uri": "https://localhost:8080/"
        },
        "id": "f6GcQZbpepmY",
        "outputId": "541be894-8632-4f90-c061-021a3ba9913c"
      },
      "execution_count": null,
      "outputs": [
        {
          "output_type": "stream",
          "name": "stdout",
          "text": [
            "Classification Report:\n",
            "               precision    recall  f1-score   support\n",
            "\n",
            "           0       0.77      0.72      0.74      1000\n",
            "           1       0.80      0.81      0.81      1000\n",
            "           2       0.64      0.59      0.62      1000\n",
            "           3       0.57      0.51      0.54      1000\n",
            "           4       0.64      0.68      0.66      1000\n",
            "           5       0.62      0.64      0.63      1000\n",
            "           6       0.78      0.77      0.78      1000\n",
            "           7       0.76      0.71      0.74      1000\n",
            "           8       0.80      0.82      0.81      1000\n",
            "           9       0.71      0.84      0.77      1000\n",
            "\n",
            "    accuracy                           0.71     10000\n",
            "   macro avg       0.71      0.71      0.71     10000\n",
            "weighted avg       0.71      0.71      0.71     10000\n",
            "\n"
          ]
        }
      ]
    },
    {
      "cell_type": "code",
      "source": [
        "plt.plot(history.history['accuracy'], label='accuracy')\n",
        "plt.plot(history.history['val_accuracy'], label= 'val_accutaciy')\n",
        "plt.xlabel('Epoch')\n",
        "plt.ylabel('Accuracy')\n",
        "plt.ylim([0.5,1])\n",
        "plt.legend(loc='lower right')\n",
        "\n",
        "test_loass, test_accuracy= model.evaluate(test_image, test_labels, verbose=2)"
      ],
      "metadata": {
        "colab": {
          "base_uri": "https://localhost:8080/",
          "height": 466
        },
        "id": "mse0BOr2gaf1",
        "outputId": "37221963-6e65-49cb-b2a2-b25a9f175e47"
      },
      "execution_count": null,
      "outputs": [
        {
          "output_type": "error",
          "ename": "NameError",
          "evalue": "ignored",
          "traceback": [
            "\u001b[0;31m---------------------------------------------------------------------------\u001b[0m",
            "\u001b[0;31mNameError\u001b[0m                                 Traceback (most recent call last)",
            "\u001b[0;32m<ipython-input-25-9fbeff21c02b>\u001b[0m in \u001b[0;36m<module>\u001b[0;34m()\u001b[0m\n\u001b[1;32m      6\u001b[0m \u001b[0mplt\u001b[0m\u001b[0;34m.\u001b[0m\u001b[0mlegend\u001b[0m\u001b[0;34m(\u001b[0m\u001b[0mloc\u001b[0m\u001b[0;34m=\u001b[0m\u001b[0;34m'lower right'\u001b[0m\u001b[0;34m)\u001b[0m\u001b[0;34m\u001b[0m\u001b[0;34m\u001b[0m\u001b[0m\n\u001b[1;32m      7\u001b[0m \u001b[0;34m\u001b[0m\u001b[0m\n\u001b[0;32m----> 8\u001b[0;31m \u001b[0mtest_loass\u001b[0m\u001b[0;34m,\u001b[0m \u001b[0mtest_accuracy\u001b[0m\u001b[0;34m=\u001b[0m \u001b[0mmodel\u001b[0m\u001b[0;34m.\u001b[0m\u001b[0mevaluate\u001b[0m\u001b[0;34m(\u001b[0m\u001b[0mtest_image\u001b[0m\u001b[0;34m,\u001b[0m \u001b[0mtest_labels\u001b[0m\u001b[0;34m,\u001b[0m \u001b[0mverbose\u001b[0m\u001b[0;34m=\u001b[0m\u001b[0;36m2\u001b[0m\u001b[0;34m)\u001b[0m\u001b[0;34m\u001b[0m\u001b[0;34m\u001b[0m\u001b[0m\n\u001b[0m",
            "\u001b[0;31mNameError\u001b[0m: name 'test_image' is not defined"
          ]
        },
        {
          "output_type": "display_data",
          "data": {
            "text/plain": [
              "<Figure size 432x288 with 1 Axes>"
            ],
            "image/png": "[encoded data removed]"
          },
          "metadata": {
            "needs_background": "light"
          }
        }
      ]
    },
    {
      "cell_type": "code",
      "source": [
        ""
      ],
      "metadata": {
        "id": "-toEWQTvh3cu"
      },
      "execution_count": null,
      "outputs": []
    }
  ]
}
